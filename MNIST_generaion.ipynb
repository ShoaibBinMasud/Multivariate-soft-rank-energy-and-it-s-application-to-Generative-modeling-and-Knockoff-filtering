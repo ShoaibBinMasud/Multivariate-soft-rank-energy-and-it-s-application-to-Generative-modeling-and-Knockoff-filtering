{
 "cells": [
  {
   "cell_type": "markdown",
   "metadata": {},
   "source": [
    "## MNIST image generation\n",
    "#### This notebook trains an auto-encoder and a genertor using sRE as the loss. One can also use  sRMMD. After training,  and generates MNIST images after training. "
   ]
  },
  {
   "cell_type": "code",
   "execution_count": null,
   "metadata": {},
   "outputs": [],
   "source": [
    "import torch\n",
    "import torch.optim as optim\n",
    "import os\n",
    "import matplotlib.pyplot as plt\n",
    "import torch.nn as nn\n",
    "import torch.nn.functional as F\n",
    "from torch.autograd import Variable\n",
    "from torch.autograd import Variable\n",
    "from torchvision import datasets, transforms\n",
    "from srmmd import loss_func\n",
    "device = torch.device(\"cuda\" if torch.cuda.is_available() else \"cpu\")"
   ]
  },
  {
   "cell_type": "code",
   "execution_count": 7,
   "metadata": {},
   "outputs": [
    {
     "data": {
      "text/html": [
       "<style>.container { width:60% !important; }</style>"
      ],
      "text/plain": [
       "<IPython.core.display.HTML object>"
      ]
     },
     "metadata": {},
     "output_type": "display_data"
    }
   ],
   "source": [
    "from IPython.core.display import display, HTML\n",
    "display(HTML(\"<style>.container { width:60% !important; }</style>\"))"
   ]
  },
  {
   "cell_type": "code",
   "execution_count": 18,
   "metadata": {},
   "outputs": [],
   "source": [
    "root = \"./data\"\n",
    "model = \"./gan\"\n",
    "reg = 1\n",
    "losstype = 'sRE' # {sRE,sRMMD}\n",
    "BATCH_SIZE = 256\n",
    "ENCODED_SIZE = 8\n",
    "\n",
    "N_INP = 784\n",
    "NOISE_SIZE = 10 \n",
    "ENCODER_SAVE_PATH = model + \"/autoencoder\"+\"_.pth\"\n",
    "GMMN_SAVE_PATH = model + \"/gmmn\"+\"_eps_\"+losstype+\"_\"+ str(reg)+\".pth\"\n",
    "\n",
    "N_ENCODER_EPOCHS = 100\n",
    "N_GEN_EPOCHS =100 \n",
    "N_COLS = 8\n",
    "N_ROWS = 4"
   ]
  },
  {
   "cell_type": "code",
   "execution_count": 19,
   "metadata": {},
   "outputs": [],
   "source": [
    "if not os.path.exists(root):\n",
    "    os.mkdir(root)\n",
    "if not os.path.exists(model):\n",
    "    os.mkdir(model)"
   ]
  },
  {
   "cell_type": "code",
   "execution_count": 20,
   "metadata": {},
   "outputs": [],
   "source": [
    "class Autoencoder(nn.Module):\n",
    "    def __init__(self, n_inp, n_encoded):\n",
    "        super(Autoencoder, self).__init__()\n",
    "        self.encoder_fc1 = nn.Linear(n_inp, 1024)\n",
    "        self.encoder_fc2 = nn.Linear(1024, n_encoded)\n",
    "        self.decoder_fc1 = nn.Linear(n_encoded, 1024)\n",
    "        self.decoder_fc2 = nn.Linear(1024, n_inp)\n",
    "\n",
    "    def forward(self, x):\n",
    "        e = self.encode(x)\n",
    "        d = self.decode(e)\n",
    "        return e, d\n",
    "\n",
    "    def encode(self, x):\n",
    "        e = torch.sigmoid(self.encoder_fc1(x))\n",
    "        e = torch.sigmoid(self.encoder_fc2(e))\n",
    "        return e\n",
    "\n",
    "    def decode(self, x):\n",
    "        d = torch.sigmoid(self.decoder_fc1(x))\n",
    "        d = torch.sigmoid(self.decoder_fc2(d))\n",
    "        return d\n",
    "    \n",
    "class GMMN(nn.Module):\n",
    "    def __init__(self, n_start, n_out):\n",
    "        super(GMMN, self).__init__()\n",
    "        self.fc1 = nn.Linear(n_start, 64)\n",
    "        self.fc2 = nn.Linear(64, 256)\n",
    "        self.fc3 = nn.Linear(256, 256)\n",
    "        self.fc4 = nn.Linear(256, 784)\n",
    "        self.fc5 = nn.Linear(784, n_out)\n",
    "\n",
    "    def forward(self, samples):\n",
    "        x = F.relu(self.fc1(samples))\n",
    "        x = F.relu(self.fc2(x))\n",
    "        x = F.relu(self.fc3(x))\n",
    "        x = F.relu(self.fc4(x))\n",
    "        x = torch.sigmoid(self.fc5(x))\n",
    "        return x"
   ]
  },
  {
   "cell_type": "code",
   "execution_count": 21,
   "metadata": {},
   "outputs": [
    {
     "name": "stdout",
     "output_type": "stream",
     "text": [
      "Downloading http://yann.lecun.com/exdb/mnist/train-images-idx3-ubyte.gz\n",
      "Downloading http://yann.lecun.com/exdb/mnist/train-images-idx3-ubyte.gz to ./data/MNIST/raw/train-images-idx3-ubyte.gz\n"
     ]
    },
    {
     "data": {
      "application/vnd.jupyter.widget-view+json": {
       "model_id": "99d0ce804f154640b763aeb272824552",
       "version_major": 2,
       "version_minor": 0
      },
      "text/plain": [
       "  0%|          | 0/9912422 [00:00<?, ?it/s]"
      ]
     },
     "metadata": {},
     "output_type": "display_data"
    },
    {
     "name": "stdout",
     "output_type": "stream",
     "text": [
      "Extracting ./data/MNIST/raw/train-images-idx3-ubyte.gz to ./data/MNIST/raw\n",
      "\n",
      "Downloading http://yann.lecun.com/exdb/mnist/train-labels-idx1-ubyte.gz\n",
      "Downloading http://yann.lecun.com/exdb/mnist/train-labels-idx1-ubyte.gz to ./data/MNIST/raw/train-labels-idx1-ubyte.gz\n"
     ]
    },
    {
     "data": {
      "application/vnd.jupyter.widget-view+json": {
       "model_id": "4352fad15d6245b1888fdfe3406a2999",
       "version_major": 2,
       "version_minor": 0
      },
      "text/plain": [
       "  0%|          | 0/28881 [00:00<?, ?it/s]"
      ]
     },
     "metadata": {},
     "output_type": "display_data"
    },
    {
     "name": "stdout",
     "output_type": "stream",
     "text": [
      "Extracting ./data/MNIST/raw/train-labels-idx1-ubyte.gz to ./data/MNIST/raw\n",
      "\n",
      "Downloading http://yann.lecun.com/exdb/mnist/t10k-images-idx3-ubyte.gz\n",
      "Downloading http://yann.lecun.com/exdb/mnist/t10k-images-idx3-ubyte.gz to ./data/MNIST/raw/t10k-images-idx3-ubyte.gz\n"
     ]
    },
    {
     "data": {
      "application/vnd.jupyter.widget-view+json": {
       "model_id": "5e6f0becc67a4d38adb40a2da84567bc",
       "version_major": 2,
       "version_minor": 0
      },
      "text/plain": [
       "  0%|          | 0/1648877 [00:00<?, ?it/s]"
      ]
     },
     "metadata": {},
     "output_type": "display_data"
    },
    {
     "name": "stdout",
     "output_type": "stream",
     "text": [
      "Extracting ./data/MNIST/raw/t10k-images-idx3-ubyte.gz to ./data/MNIST/raw\n",
      "\n",
      "Downloading http://yann.lecun.com/exdb/mnist/t10k-labels-idx1-ubyte.gz\n",
      "Downloading http://yann.lecun.com/exdb/mnist/t10k-labels-idx1-ubyte.gz to ./data/MNIST/raw/t10k-labels-idx1-ubyte.gz\n"
     ]
    },
    {
     "data": {
      "application/vnd.jupyter.widget-view+json": {
       "model_id": "fc289650e7334644b8f2a7ef003910c0",
       "version_major": 2,
       "version_minor": 0
      },
      "text/plain": [
       "  0%|          | 0/4542 [00:00<?, ?it/s]"
      ]
     },
     "metadata": {},
     "output_type": "display_data"
    },
    {
     "name": "stdout",
     "output_type": "stream",
     "text": [
      "Extracting ./data/MNIST/raw/t10k-labels-idx1-ubyte.gz to ./data/MNIST/raw\n",
      "\n"
     ]
    }
   ],
   "source": [
    "trans = transforms.Compose([transforms.ToTensor()])\n",
    "train_set = datasets.MNIST(root=root, train=True, transform=trans, download=True)\n",
    "train_loader = torch.utils.data.DataLoader(\n",
    "        dataset=train_set,\n",
    "        batch_size=BATCH_SIZE,\n",
    "        shuffle=True,\n",
    "        drop_last=True)"
   ]
  },
  {
   "cell_type": "code",
   "execution_count": 22,
   "metadata": {},
   "outputs": [],
   "source": [
    "encoder_net = Autoencoder(N_INP, ENCODED_SIZE).to(device)\n",
    "encoder_optim = optim.Adam(encoder_net.parameters())"
   ]
  },
  {
   "cell_type": "code",
   "execution_count": 23,
   "metadata": {
    "scrolled": true
   },
   "outputs": [
    {
     "name": "stdout",
     "output_type": "stream",
     "text": [
      "Autoencoder Training: Epoch - [ 1] complete, average loss - [12664.1022]\n",
      "Autoencoder Training: Epoch - [ 2] complete, average loss - [9584.5690]\n",
      "Autoencoder Training: Epoch - [ 3] complete, average loss - [8286.7602]\n",
      "Autoencoder Training: Epoch - [ 4] complete, average loss - [7429.0982]\n",
      "Autoencoder Training: Epoch - [ 5] complete, average loss - [7060.1576]\n",
      "Autoencoder Training: Epoch - [ 6] complete, average loss - [6860.8966]\n",
      "Autoencoder Training: Epoch - [ 7] complete, average loss - [6727.8012]\n",
      "Autoencoder Training: Epoch - [ 8] complete, average loss - [6630.9419]\n",
      "Autoencoder Training: Epoch - [ 9] complete, average loss - [6552.3160]\n",
      "Autoencoder Training: Epoch - [10] complete, average loss - [6487.5262]\n",
      "Autoencoder Training: Epoch - [11] complete, average loss - [6424.1226]\n",
      "Autoencoder Training: Epoch - [12] complete, average loss - [6377.2529]\n",
      "Autoencoder Training: Epoch - [13] complete, average loss - [6317.0074]\n",
      "Autoencoder Training: Epoch - [14] complete, average loss - [6256.7170]\n",
      "Autoencoder Training: Epoch - [15] complete, average loss - [6199.5123]\n",
      "Autoencoder Training: Epoch - [16] complete, average loss - [6128.7585]\n",
      "Autoencoder Training: Epoch - [17] complete, average loss - [6054.6758]\n",
      "Autoencoder Training: Epoch - [18] complete, average loss - [5975.7634]\n",
      "Autoencoder Training: Epoch - [19] complete, average loss - [5906.3500]\n",
      "Autoencoder Training: Epoch - [20] complete, average loss - [5824.6440]\n",
      "Autoencoder Training: Epoch - [21] complete, average loss - [5753.8768]\n",
      "Autoencoder Training: Epoch - [22] complete, average loss - [5677.8679]\n",
      "Autoencoder Training: Epoch - [23] complete, average loss - [5610.4076]\n",
      "Autoencoder Training: Epoch - [24] complete, average loss - [5541.4587]\n",
      "Autoencoder Training: Epoch - [25] complete, average loss - [5479.6493]\n",
      "Autoencoder Training: Epoch - [26] complete, average loss - [5417.0941]\n",
      "Autoencoder Training: Epoch - [27] complete, average loss - [5361.6560]\n",
      "Autoencoder Training: Epoch - [28] complete, average loss - [5302.2785]\n",
      "Autoencoder Training: Epoch - [29] complete, average loss - [5244.3213]\n",
      "Autoencoder Training: Epoch - [30] complete, average loss - [5188.8719]\n",
      "Autoencoder Training: Epoch - [31] complete, average loss - [5133.9821]\n",
      "Autoencoder Training: Epoch - [32] complete, average loss - [5080.0442]\n",
      "Autoencoder Training: Epoch - [33] complete, average loss - [5031.7100]\n",
      "Autoencoder Training: Epoch - [34] complete, average loss - [4980.6757]\n",
      "Autoencoder Training: Epoch - [35] complete, average loss - [4936.7096]\n",
      "Autoencoder Training: Epoch - [36] complete, average loss - [4886.8191]\n",
      "Autoencoder Training: Epoch - [37] complete, average loss - [4843.2182]\n",
      "Autoencoder Training: Epoch - [38] complete, average loss - [4801.9977]\n",
      "Autoencoder Training: Epoch - [39] complete, average loss - [4761.0692]\n",
      "Autoencoder Training: Epoch - [40] complete, average loss - [4721.9052]\n",
      "Autoencoder Training: Epoch - [41] complete, average loss - [4684.2126]\n",
      "Autoencoder Training: Epoch - [42] complete, average loss - [4653.9634]\n",
      "Autoencoder Training: Epoch - [43] complete, average loss - [4618.1441]\n",
      "Autoencoder Training: Epoch - [44] complete, average loss - [4584.0078]\n",
      "Autoencoder Training: Epoch - [45] complete, average loss - [4552.4471]\n",
      "Autoencoder Training: Epoch - [46] complete, average loss - [4524.4703]\n",
      "Autoencoder Training: Epoch - [47] complete, average loss - [4492.6943]\n",
      "Autoencoder Training: Epoch - [48] complete, average loss - [4466.4499]\n",
      "Autoencoder Training: Epoch - [49] complete, average loss - [4440.8047]\n",
      "Autoencoder Training: Epoch - [50] complete, average loss - [4415.5197]\n",
      "Autoencoder Training: Epoch - [51] complete, average loss - [4390.9818]\n",
      "Autoencoder Training: Epoch - [52] complete, average loss - [4361.6315]\n",
      "Autoencoder Training: Epoch - [53] complete, average loss - [4342.3082]\n",
      "Autoencoder Training: Epoch - [54] complete, average loss - [4317.5149]\n",
      "Autoencoder Training: Epoch - [55] complete, average loss - [4295.6106]\n",
      "Autoencoder Training: Epoch - [56] complete, average loss - [4276.8761]\n",
      "Autoencoder Training: Epoch - [57] complete, average loss - [4253.1231]\n",
      "Autoencoder Training: Epoch - [58] complete, average loss - [4235.7873]\n",
      "Autoencoder Training: Epoch - [59] complete, average loss - [4210.0308]\n",
      "Autoencoder Training: Epoch - [60] complete, average loss - [4194.4765]\n",
      "Autoencoder Training: Epoch - [61] complete, average loss - [4176.4597]\n",
      "Autoencoder Training: Epoch - [62] complete, average loss - [4154.2097]\n",
      "Autoencoder Training: Epoch - [63] complete, average loss - [4137.5832]\n",
      "Autoencoder Training: Epoch - [64] complete, average loss - [4121.6815]\n",
      "Autoencoder Training: Epoch - [65] complete, average loss - [4100.7892]\n",
      "Autoencoder Training: Epoch - [66] complete, average loss - [4081.8274]\n",
      "Autoencoder Training: Epoch - [67] complete, average loss - [4067.6897]\n",
      "Autoencoder Training: Epoch - [68] complete, average loss - [4049.5693]\n",
      "Autoencoder Training: Epoch - [69] complete, average loss - [4035.0774]\n",
      "Autoencoder Training: Epoch - [70] complete, average loss - [4017.9681]\n",
      "Autoencoder Training: Epoch - [71] complete, average loss - [4005.3108]\n",
      "Autoencoder Training: Epoch - [72] complete, average loss - [3987.1605]\n",
      "Autoencoder Training: Epoch - [73] complete, average loss - [3975.0673]\n",
      "Autoencoder Training: Epoch - [74] complete, average loss - [3957.2402]\n",
      "Autoencoder Training: Epoch - [75] complete, average loss - [3944.0745]\n",
      "Autoencoder Training: Epoch - [76] complete, average loss - [3931.4021]\n",
      "Autoencoder Training: Epoch - [77] complete, average loss - [3913.4764]\n",
      "Autoencoder Training: Epoch - [78] complete, average loss - [3905.2695]\n",
      "Autoencoder Training: Epoch - [79] complete, average loss - [3890.9084]\n",
      "Autoencoder Training: Epoch - [80] complete, average loss - [3874.7618]\n",
      "Autoencoder Training: Epoch - [81] complete, average loss - [3865.0503]\n",
      "Autoencoder Training: Epoch - [82] complete, average loss - [3852.7687]\n",
      "Autoencoder Training: Epoch - [83] complete, average loss - [3837.9782]\n",
      "Autoencoder Training: Epoch - [84] complete, average loss - [3825.2487]\n",
      "Autoencoder Training: Epoch - [85] complete, average loss - [3814.9053]\n",
      "Autoencoder Training: Epoch - [86] complete, average loss - [3804.5817]\n",
      "Autoencoder Training: Epoch - [87] complete, average loss - [3791.6882]\n",
      "Autoencoder Training: Epoch - [88] complete, average loss - [3781.5779]\n",
      "Autoencoder Training: Epoch - [89] complete, average loss - [3767.9787]\n",
      "Autoencoder Training: Epoch - [90] complete, average loss - [3757.8879]\n",
      "Autoencoder Training: Epoch - [91] complete, average loss - [3749.7113]\n",
      "Autoencoder Training: Epoch - [92] complete, average loss - [3732.8774]\n",
      "Autoencoder Training: Epoch - [93] complete, average loss - [3723.7593]\n",
      "Autoencoder Training: Epoch - [94] complete, average loss - [3717.8356]\n",
      "Autoencoder Training: Epoch - [95] complete, average loss - [3703.6575]\n",
      "Autoencoder Training: Epoch - [96] complete, average loss - [3693.9671]\n",
      "Autoencoder Training: Epoch - [97] complete, average loss - [3685.2902]\n",
      "Autoencoder Training: Epoch - [98] complete, average loss - [3677.1236]\n",
      "Autoencoder Training: Epoch - [99] complete, average loss - [3666.8949]\n",
      "Autoencoder Training: Epoch - [100] complete, average loss - [3656.7270]\n",
      "Autoencoder has been successfully trained\n"
     ]
    }
   ],
   "source": [
    "if os.path.exists(ENCODER_SAVE_PATH):\n",
    "    encoder_net.load_state_dict(torch.load(ENCODER_SAVE_PATH))\n",
    "    print(\"Loaded saved autoencoder model\")\n",
    "else:\n",
    "    for ep in range(N_ENCODER_EPOCHS):\n",
    "        avg_loss = 0\n",
    "        for idx, (x, _) in enumerate(train_loader):\n",
    "            x = x.view(x.size()[0], -1)\n",
    "            x = Variable(x).to(device)\n",
    "            _, decoded = encoder_net(x)\n",
    "            loss = torch.sum((x - decoded) ** 2)\n",
    "            encoder_optim.zero_grad()\n",
    "            loss.backward()\n",
    "            encoder_optim.step()\n",
    "            avg_loss += loss.item()\n",
    "        avg_loss /= (idx + 1) \n",
    "\n",
    "        print(\"Autoencoder Training: Epoch - [%2d] complete, average loss - [%.4f]\" %(ep + 1, avg_loss))\n",
    "\n",
    "    torch.save(encoder_net.state_dict(), ENCODER_SAVE_PATH)\n",
    "print(\"Autoencoder has been successfully trained\")"
   ]
  },
  {
   "cell_type": "code",
   "execution_count": 26,
   "metadata": {},
   "outputs": [],
   "source": [
    "def train_one_step(x, samples, sigma_list=[1, 2, 4, 8, 16, 32]): \n",
    "    samples = Variable(samples).to(device)\n",
    "    gen_samples = gmm_net(samples)\n",
    "    loss = loss_func(x, gen_samples, sigma_list, reg = reg, biased=True, losstype = losstype)\n",
    "    gmmn_optimizer.zero_grad()\n",
    "    loss.backward()\n",
    "    gmmn_optimizer.step()\n",
    "    return loss"
   ]
  },
  {
   "cell_type": "code",
   "execution_count": 27,
   "metadata": {
    "scrolled": true
   },
   "outputs": [
    {
     "name": "stdout",
     "output_type": "stream",
     "text": [
      "GMMN Training: Epoch - [  0] complete, average loss - [1.0097]\n",
      "GMMN Training: Epoch - [  1] complete, average loss - [0.7026]\n",
      "GMMN Training: Epoch - [  2] complete, average loss - [0.5891]\n",
      "GMMN Training: Epoch - [  3] complete, average loss - [0.5424]\n",
      "GMMN Training: Epoch - [  4] complete, average loss - [0.5297]\n",
      "GMMN Training: Epoch - [  5] complete, average loss - [0.5202]\n",
      "GMMN Training: Epoch - [  6] complete, average loss - [0.5136]\n",
      "GMMN Training: Epoch - [  7] complete, average loss - [0.4932]\n",
      "GMMN Training: Epoch - [  8] complete, average loss - [0.4848]\n",
      "GMMN Training: Epoch - [  9] complete, average loss - [0.4886]\n",
      "GMMN Training: Epoch - [ 10] complete, average loss - [0.4800]\n",
      "GMMN Training: Epoch - [ 11] complete, average loss - [0.4910]\n",
      "GMMN Training: Epoch - [ 12] complete, average loss - [0.4741]\n",
      "GMMN Training: Epoch - [ 13] complete, average loss - [0.4758]\n",
      "GMMN Training: Epoch - [ 14] complete, average loss - [0.4763]\n",
      "GMMN Training: Epoch - [ 15] complete, average loss - [0.4829]\n",
      "GMMN Training: Epoch - [ 16] complete, average loss - [0.4649]\n",
      "GMMN Training: Epoch - [ 17] complete, average loss - [0.4727]\n",
      "GMMN Training: Epoch - [ 18] complete, average loss - [0.4708]\n",
      "GMMN Training: Epoch - [ 19] complete, average loss - [0.4737]\n",
      "GMMN Training: Epoch - [ 20] complete, average loss - [0.4633]\n",
      "GMMN Training: Epoch - [ 21] complete, average loss - [0.4720]\n",
      "GMMN Training: Epoch - [ 22] complete, average loss - [0.4640]\n",
      "GMMN Training: Epoch - [ 23] complete, average loss - [0.4632]\n",
      "GMMN Training: Epoch - [ 24] complete, average loss - [0.4556]\n",
      "GMMN Training: Epoch - [ 25] complete, average loss - [0.4594]\n",
      "GMMN Training: Epoch - [ 26] complete, average loss - [0.4582]\n",
      "GMMN Training: Epoch - [ 27] complete, average loss - [0.4633]\n",
      "GMMN Training: Epoch - [ 28] complete, average loss - [0.4626]\n",
      "GMMN Training: Epoch - [ 29] complete, average loss - [0.4539]\n",
      "GMMN Training: Epoch - [ 30] complete, average loss - [0.4584]\n",
      "GMMN Training: Epoch - [ 31] complete, average loss - [0.4473]\n",
      "GMMN Training: Epoch - [ 32] complete, average loss - [0.4494]\n",
      "GMMN Training: Epoch - [ 33] complete, average loss - [0.4533]\n",
      "GMMN Training: Epoch - [ 34] complete, average loss - [0.4569]\n",
      "GMMN Training: Epoch - [ 35] complete, average loss - [0.4509]\n",
      "GMMN Training: Epoch - [ 36] complete, average loss - [0.4577]\n",
      "GMMN Training: Epoch - [ 37] complete, average loss - [0.4535]\n",
      "GMMN Training: Epoch - [ 38] complete, average loss - [0.4511]\n",
      "GMMN Training: Epoch - [ 39] complete, average loss - [0.4398]\n",
      "GMMN Training: Epoch - [ 40] complete, average loss - [0.4556]\n",
      "GMMN Training: Epoch - [ 41] complete, average loss - [0.4492]\n",
      "GMMN Training: Epoch - [ 42] complete, average loss - [0.4480]\n",
      "GMMN Training: Epoch - [ 43] complete, average loss - [0.4438]\n",
      "GMMN Training: Epoch - [ 44] complete, average loss - [0.4450]\n",
      "GMMN Training: Epoch - [ 45] complete, average loss - [0.4452]\n",
      "GMMN Training: Epoch - [ 46] complete, average loss - [0.4511]\n",
      "GMMN Training: Epoch - [ 47] complete, average loss - [0.4458]\n",
      "GMMN Training: Epoch - [ 48] complete, average loss - [0.4468]\n",
      "GMMN Training: Epoch - [ 49] complete, average loss - [0.4405]\n",
      "GMMN Training: Epoch - [ 50] complete, average loss - [0.4418]\n",
      "GMMN Training: Epoch - [ 51] complete, average loss - [0.4387]\n",
      "GMMN Training: Epoch - [ 52] complete, average loss - [0.4392]\n",
      "GMMN Training: Epoch - [ 53] complete, average loss - [0.4393]\n",
      "GMMN Training: Epoch - [ 54] complete, average loss - [0.4537]\n",
      "GMMN Training: Epoch - [ 55] complete, average loss - [0.4464]\n",
      "GMMN Training: Epoch - [ 56] complete, average loss - [0.4461]\n",
      "GMMN Training: Epoch - [ 57] complete, average loss - [0.4420]\n",
      "GMMN Training: Epoch - [ 58] complete, average loss - [0.4394]\n",
      "GMMN Training: Epoch - [ 59] complete, average loss - [0.4467]\n",
      "GMMN Training: Epoch - [ 60] complete, average loss - [0.4482]\n",
      "GMMN Training: Epoch - [ 61] complete, average loss - [0.4464]\n",
      "GMMN Training: Epoch - [ 62] complete, average loss - [0.4414]\n",
      "GMMN Training: Epoch - [ 63] complete, average loss - [0.4407]\n",
      "GMMN Training: Epoch - [ 64] complete, average loss - [0.4486]\n",
      "GMMN Training: Epoch - [ 65] complete, average loss - [0.4479]\n",
      "GMMN Training: Epoch - [ 66] complete, average loss - [0.4410]\n",
      "GMMN Training: Epoch - [ 67] complete, average loss - [0.4291]\n",
      "GMMN Training: Epoch - [ 68] complete, average loss - [0.4381]\n",
      "GMMN Training: Epoch - [ 69] complete, average loss - [0.4333]\n",
      "GMMN Training: Epoch - [ 70] complete, average loss - [0.4473]\n",
      "GMMN Training: Epoch - [ 71] complete, average loss - [0.4338]\n",
      "GMMN Training: Epoch - [ 72] complete, average loss - [0.4292]\n",
      "GMMN Training: Epoch - [ 73] complete, average loss - [0.4363]\n",
      "GMMN Training: Epoch - [ 74] complete, average loss - [0.4294]\n",
      "GMMN Training: Epoch - [ 75] complete, average loss - [0.4379]\n",
      "GMMN Training: Epoch - [ 76] complete, average loss - [0.4337]\n",
      "GMMN Training: Epoch - [ 77] complete, average loss - [0.4368]\n",
      "GMMN Training: Epoch - [ 78] complete, average loss - [0.4330]\n",
      "GMMN Training: Epoch - [ 79] complete, average loss - [0.4322]\n",
      "GMMN Training: Epoch - [ 80] complete, average loss - [0.4341]\n",
      "GMMN Training: Epoch - [ 81] complete, average loss - [0.4422]\n",
      "GMMN Training: Epoch - [ 82] complete, average loss - [0.4438]\n",
      "GMMN Training: Epoch - [ 83] complete, average loss - [0.4357]\n",
      "GMMN Training: Epoch - [ 84] complete, average loss - [0.4375]\n",
      "GMMN Training: Epoch - [ 85] complete, average loss - [0.4380]\n",
      "GMMN Training: Epoch - [ 86] complete, average loss - [0.4359]\n",
      "GMMN Training: Epoch - [ 87] complete, average loss - [0.4290]\n",
      "GMMN Training: Epoch - [ 88] complete, average loss - [0.4377]\n",
      "GMMN Training: Epoch - [ 89] complete, average loss - [0.4327]\n",
      "GMMN Training: Epoch - [ 90] complete, average loss - [0.4254]\n",
      "GMMN Training: Epoch - [ 91] complete, average loss - [0.4316]\n",
      "GMMN Training: Epoch - [ 92] complete, average loss - [0.4381]\n",
      "GMMN Training: Epoch - [ 93] complete, average loss - [0.4401]\n",
      "GMMN Training: Epoch - [ 94] complete, average loss - [0.4258]\n",
      "GMMN Training: Epoch - [ 95] complete, average loss - [0.4278]\n",
      "GMMN Training: Epoch - [ 96] complete, average loss - [0.4309]\n",
      "GMMN Training: Epoch - [ 97] complete, average loss - [0.4354]\n",
      "GMMN Training: Epoch - [ 98] complete, average loss - [0.4380]\n",
      "GMMN Training: Epoch - [ 99] complete, average loss - [0.4364]\n"
     ]
    }
   ],
   "source": [
    "gmm_net = GMMN(NOISE_SIZE, ENCODED_SIZE).to(device)\n",
    "gmmn_optimizer = optim.Adam(gmm_net.parameters(), lr=0.001)\n",
    "if os.path.exists(GMMN_SAVE_PATH):\n",
    "    gmm_net.load_state_dict(torch.load(GMMN_SAVE_PATH))\n",
    "    print(\"Loaded previously saved GMM Network\")\n",
    "else:\n",
    "    loss_list = []\n",
    "    for ep in range(N_GEN_EPOCHS):\n",
    "        avg_loss = 0\n",
    "        for idx, (x, _) in enumerate(train_loader):\n",
    "            x = x.view(x.size()[0], -1)\n",
    "            with torch.no_grad():\n",
    "                x = Variable(x).to(device)\n",
    "                encoded_x = encoder_net.encode(x)\n",
    "            random_noise = torch.rand((BATCH_SIZE, NOISE_SIZE)) * 2 - 1\n",
    "            loss = train_one_step(encoded_x, random_noise)\n",
    "            avg_loss += loss.item()\n",
    "\n",
    "        avg_loss /= (idx + 1)\n",
    "        loss_list.append(avg_loss)\n",
    "        print(\"GMMN Training: Epoch - [%3d] complete, average loss - [%.4f]\" %(ep, avg_loss))\n",
    "    torch.save(gmm_net.state_dict(), GMMN_SAVE_PATH)"
   ]
  },
  {
   "cell_type": "markdown",
   "metadata": {},
   "source": [
    "## Plot the MNIST image"
   ]
  },
  {
   "cell_type": "code",
   "execution_count": 29,
   "metadata": {},
   "outputs": [
    {
     "data": {
      "text/plain": [
       "<Figure size 432x288 with 0 Axes>"
      ]
     },
     "metadata": {},
     "output_type": "display_data"
    }
   ],
   "source": [
    "trans = transforms.Compose([transforms.ToTensor()])\n",
    "test_set = datasets.MNIST(root=root, train=False, transform=trans, download=True)\n",
    "view_data = [test_set[i][0] for i in range(N_ROWS * N_COLS)]\n",
    "\n",
    "encoder_net = Autoencoder(N_INP, ENCODED_SIZE)\n",
    "encoder_net.load_state_dict(torch.load(ENCODER_SAVE_PATH))\n",
    "\n",
    "plt.gray()\n",
    "plt.show()"
   ]
  },
  {
   "cell_type": "code",
   "execution_count": 30,
   "metadata": {},
   "outputs": [
    {
     "name": "stdout",
     "output_type": "stream",
     "text": [
      "Images generated by GMMN\n"
     ]
    },
    {
     "data": {
      "image/png": "[encoded data removed]",
      "text/plain": [
       "<Figure size 360x360 with 64 Axes>"
      ]
     },
     "metadata": {
      "needs_background": "light"
     },
     "output_type": "display_data"
    }
   ],
   "source": [
    "import matplotlib.gridspec as gridspec\n",
    "print(\"Images generated by GMMN\")\n",
    "gmm_net = GMMN(NOISE_SIZE, ENCODED_SIZE)\n",
    "gmm_net.load_state_dict(torch.load(GMMN_SAVE_PATH))\n",
    "img_list = []\n",
    "for r in range(2*N_ROWS):\n",
    "    for c in range(N_COLS):\n",
    "        noise = torch.rand((1, NOISE_SIZE)) * 2 - 1\n",
    "        encoded_x = gmm_net(Variable(noise))\n",
    "        y = encoder_net.decode(encoded_x)\n",
    "        img_list.append(y.detach().squeeze().numpy().reshape(28, 28))\n",
    "\n",
    "plt.figure(figsize = (5,5))\n",
    "gs1 = gridspec.GridSpec(8, 8)\n",
    "gs1.update(wspace=0.0, hspace=0.1)\n",
    "\n",
    "for i in range(64):\n",
    "    ax1 = plt.subplot(gs1[i])\n",
    "    plt.imshow(img_list[i], cmap = 'gray')\n",
    "    plt.axis('off')\n",
    "    ax1.set_xticklabels([])\n",
    "    ax1.set_yticklabels([])\n",
    "    ax1.set_aspect('equal')\n",
    "plt.show()"
   ]
  },
  {
   "cell_type": "code",
   "execution_count": 35,
   "metadata": {},
   "outputs": [
    {
     "data": {
      "text/plain": [
       "<matplotlib.legend.Legend at 0x7f4f9107e7f0>"
      ]
     },
     "execution_count": 35,
     "metadata": {},
     "output_type": "execute_result"
    },
    {
     "data": {
      "image/png": "[encoded data removed]",
      "text/plain": [
       "<Figure size 432x360 with 1 Axes>"
      ]
     },
     "metadata": {
      "needs_background": "light"
     },
     "output_type": "display_data"
    }
   ],
   "source": [
    "plt.figure(figsize = (6,5))\n",
    "plt.plot(loss_list, linewidth = 2, label = r'$\\mathtt{sRE}$, $\\varepsilon = 1, \\sigma = (1, 2, 4, 8, 16, 32)$')\n",
    "plt.ylabel('Avergage loss', fontsize = 14)\n",
    "plt.xlabel('Epoch',  fontsize = 14)\n",
    "plt.legend(fontsize = 14)"
   ]
  },
  {
   "cell_type": "code",
   "execution_count": null,
   "metadata": {},
   "outputs": [],
   "source": []
  }
 ],
 "metadata": {
  "kernelspec": {
   "display_name": "Python 3",
   "language": "python",
   "name": "python3"
  },
  "language_info": {
   "codemirror_mode": {
    "name": "ipython",
    "version": 3
   },
   "file_extension": ".py",
   "mimetype": "text/x-python",
   "name": "python",
   "nbconvert_exporter": "python",
   "pygments_lexer": "ipython3",
   "version": "3.8.3"
  }
 },
 "nbformat": 4,
 "nbformat_minor": 5
}
